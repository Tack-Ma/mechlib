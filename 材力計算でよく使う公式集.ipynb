{
 "cells": [
  {
   "cell_type": "markdown",
   "metadata": {},
   "source": [
    "## 断面形状ごとの面積，断面二次モーメント，断面係数を返す関数\n",
    "\n",
    "### 長方形 (rectangle)\n",
    "\n",
    "$$\n",
    "\\begin{align}\n",
    "A &= {bh},\\ \n",
    "I_y = \\frac{bh^3}{12},\\ \n",
    "Z = \\frac{bh^2}{6}\n",
    "\\end{align}\n",
    "$$\n",
    "\n",
    "### 円形 (circle)\n",
    "\n",
    "$$\n",
    "\\begin{align}\n",
    "A = \\frac{\\pi d^2}{4},\\ \n",
    "I_y = \\frac{\\pi d^4}{64},\\ \n",
    "Z = \\frac{\\pi d^3}{32}\n",
    "\\end{align}\n",
    "$$\n",
    "\n",
    "### リング形 (ring)\n",
    "\n",
    "$$\n",
    "\\begin{align}\n",
    "A = \\frac{\\pi (d_o^2-d_i^2)}{4},\\ \n",
    "I_y = \\frac{\\pi (d_o^4-d_i^4)}{64},\\ \n",
    "Z = \\frac{\\pi}{32}\\cdot \\frac{d_o^4-d_i^4}{d_o}\n",
    "\\end{align}\n",
    "$$"
   ]
  },
  {
   "cell_type": "code",
   "execution_count": 14,
   "metadata": {},
   "outputs": [],
   "source": [
    "import numpy as np"
   ]
  },
  {
   "cell_type": "code",
   "execution_count": 67,
   "metadata": {},
   "outputs": [],
   "source": [
    "def sec_data(**param):\n",
    "    try:\n",
    "        if param['sectype'] == 'rectangle':\n",
    "            b = param['b']\n",
    "            h = param['h']\n",
    "            return b*h, b*h**3/12, b*h**2/6\n",
    "        elif param['sectype'] == 'circle':\n",
    "            d = param['d']\n",
    "            return np.pi*d**2/4, np.pi*d**4/64, np.pi*d**3/32\n",
    "        elif param['sectype'] == 'ring':\n",
    "            d_o = param['d_o']\n",
    "            d_i = param['d_i']\n",
    "            return np.pi*(d_o**2-d_i**2)/4, np.pi*(d_o**4-d_i**4)/64, np.pi/32*(d_o**4-d_i**4)/d_o\n",
    "    except:\n",
    "        return np.nan,np.nan,np.nan"
   ]
  },
  {
   "cell_type": "markdown",
   "metadata": {},
   "source": [
    "---\n",
    "### サンプル"
   ]
  },
  {
   "cell_type": "code",
   "execution_count": 68,
   "metadata": {},
   "outputs": [
    {
     "data": {
      "text/plain": [
       "(nan, nan, nan)"
      ]
     },
     "execution_count": 68,
     "metadata": {},
     "output_type": "execute_result"
    }
   ],
   "source": [
    "sec_data(sectype='rectangle', c=12, h=10)"
   ]
  },
  {
   "cell_type": "code",
   "execution_count": 69,
   "metadata": {},
   "outputs": [
    {
     "data": {
      "text/plain": [
       "(120, 1000.0, 200.0)"
      ]
     },
     "execution_count": 69,
     "metadata": {},
     "output_type": "execute_result"
    }
   ],
   "source": [
    "dimension = {'sectype':'rectangle', 'b':12, 'h':10}\n",
    "sec_data(**dimension)"
   ]
  },
  {
   "cell_type": "code",
   "execution_count": 70,
   "metadata": {
    "scrolled": true
   },
   "outputs": [
    {
     "data": {
      "text/plain": [
       "(78.53981633974483, 490.8738521234052, 98.17477042468103)"
      ]
     },
     "execution_count": 70,
     "metadata": {},
     "output_type": "execute_result"
    }
   ],
   "source": [
    "sec_data(sectype='circle', d=10)"
   ]
  },
  {
   "cell_type": "code",
   "execution_count": 71,
   "metadata": {},
   "outputs": [
    {
     "data": {
      "text/plain": [
       "(58.90486225480862, 460.19423636569235, 92.03884727313847)"
      ]
     },
     "execution_count": 71,
     "metadata": {},
     "output_type": "execute_result"
    }
   ],
   "source": [
    "sec_data(sectype='ring', d_o=10,d_i=5)"
   ]
  },
  {
   "cell_type": "code",
   "execution_count": 72,
   "metadata": {},
   "outputs": [
    {
     "data": {
      "text/plain": [
       "(nan, nan, nan)"
      ]
     },
     "execution_count": 72,
     "metadata": {},
     "output_type": "execute_result"
    }
   ],
   "source": [
    "sec_data(sectype='circle', e=10)"
   ]
  },
  {
   "cell_type": "markdown",
   "metadata": {},
   "source": [
    "---\n",
    "## 梁のたわみとたわみ角を求める関数\n",
    "\n",
    "中原一郎著 \"材料力学\" 上巻付表3,4による。\n",
    "\n",
    "### 付表3.1\n",
    "\n",
    "$$\n",
    "\\begin{align}\n",
    "\\omega &= \\frac{Pl^3}{6EI}\\Bigl(3-\\frac{x}{l}\\Bigr)\\frac{x^2}{l^2},\\ \n",
    "\\theta = \\frac{Pl^2}{2EI}\\Bigl(2-\\frac{x}{l}\\Bigr)\\frac{x}{l}\n",
    "\\end{align}\n",
    "$$\n",
    "\n",
    "### 付表3.2\n",
    "\n",
    "$$\n",
    "\\begin{align}\n",
    "\\omega &= \\frac{Pa^3}{6EI}\\Bigl(3-\\frac{x}{a}\\Bigr)\\frac{x^2}{a^2},\\ &(0 \\leq x \\leq a)\\\\\n",
    "&=\\frac{Pa^3}{6EI}\\Bigl\\{2+3 \\Bigl(\\frac{x}{a}-1\\Bigr)\\Bigr\\},\\ &(a \\leq x \\leq l)\\\\\n",
    "\\theta &= \\frac{Pa^2}{2EI}\\Bigl(2-\\frac{x}{a}\\Bigr)\\frac{x}{a},\\ &(0 \\leq x \\leq a)\\\\\n",
    "&= \\frac{Pl^2}{2EI}\\Bigl(2-\\frac{x}{l}\\Bigr)\\frac{x}{l},\\ &(a \\leq x \\leq l)\n",
    "\\end{align}\n",
    "$$\n",
    "\n",
    "### 付表3.3\n",
    "未実装\n",
    "\n",
    "### 付表3.4\n",
    "\n",
    "$$\n",
    "\\begin{align}\n",
    "\\omega &= \\frac{ql^2}{24EI}x^2\\Bigl(6-4\\frac{x}{l}+\\frac{x^2}{l^2}\\Bigr),\\ \n",
    "\\theta = \\frac{ql^2}{6EI}x\\Bigl(3-3\\frac{x}{l}+\\frac{x^2}{l^2}\\Bigr)\n",
    "\\end{align}\n",
    "$$\n",
    "\n"
   ]
  },
  {
   "cell_type": "code",
   "execution_count": 124,
   "metadata": {},
   "outputs": [],
   "source": [
    "def beams_deflection(**param):\n",
    "    try:\n",
    "        if param['beamstype'] == '3.1':\n",
    "            load = param['p']\n",
    "            length = param['l']\n",
    "            elasticity = param['E']\n",
    "            I_y = param['I_y']\n",
    "            x = param['x']\n",
    "            omega = load*length**3/(6*elasticity*I_y)*(3-x/length)*x**2/length**2\n",
    "            theta = load*length**2/(2*elasticity*I_y)*(2-x/length)*x/length\n",
    "            return omega, theta\n",
    "        elif param['beamstype'] == '3.2':\n",
    "            load = param['p']\n",
    "            length = param['l']\n",
    "            elasticity = param['E']\n",
    "            I_y = param['I_y']\n",
    "            x = param['x']\n",
    "            a = param['a']\n",
    "            if x<=a:\n",
    "                omega = load*a**3/(6*elasticity*I_y)*(3-x/a)*x**2/a**2\n",
    "                theta = load*a**2/(2*elasticity*I_y)*(2-x/a)*x/a\n",
    "            else:\n",
    "                omega = load*a**3/(6*elasticity*I_y)*(2+3*(x/a-1))\n",
    "                theta = load*length**2/(2*elasticity*I_y)*(2-x/length)*x/length\n",
    "            return omega, theta\n",
    "        elif param['beamstype'] == '3.3':\n",
    "            return np.nan, np.nan\n",
    "        elif param['beamstype'] == '3.4':\n",
    "            qload = param['q']\n",
    "            length = param['l']\n",
    "            elasticity = param['E']\n",
    "            I_y = param['I_y']\n",
    "            x = param['x']\n",
    "            omega = qload * length**2 / (24*elasticity*I_y) * x**2 * (6 - 4*x/length + x**2/length**2)\n",
    "            theta = qload * length**2 / (6*elasticity*I_y) * x * (3 - 3*x/length + x**2/length**2)\n",
    "            return omega, theta\n",
    "    except:\n",
    "        return np.nan, np.nan"
   ]
  },
  {
   "cell_type": "markdown",
   "metadata": {},
   "source": [
    "---\n",
    "### サンプル"
   ]
  },
  {
   "cell_type": "code",
   "execution_count": 125,
   "metadata": {
    "scrolled": true
   },
   "outputs": [
    {
     "data": {
      "text/plain": [
       "(3.1746031746031744, 0.047619047619047616)"
      ]
     },
     "execution_count": 125,
     "metadata": {},
     "output_type": "execute_result"
    }
   ],
   "source": [
    "beams_deflection(beamstype='3.1', p=100, l=100, E=21000, I_y=500, x=100)"
   ]
  },
  {
   "cell_type": "code",
   "execution_count": 126,
   "metadata": {},
   "outputs": [
    {
     "name": "stdout",
     "output_type": "stream",
     "text": [
      "0.5158730158730158\n"
     ]
    },
    {
     "data": {
      "text/plain": [
       "(0.5158730158730158, 0.039999999999999994)"
      ]
     },
     "execution_count": 126,
     "metadata": {},
     "output_type": "execute_result"
    }
   ],
   "source": [
    "beams_deflection(beamstype='3.2', p=100, l=100, E=21000, I_y=500, x=60, a=50)"
   ]
  },
  {
   "cell_type": "code",
   "execution_count": 127,
   "metadata": {},
   "outputs": [],
   "source": [
    "beams_deflection(beamstype='3.3', p=100, l=100, E=21000, I_y=500, x=60, a=50)"
   ]
  },
  {
   "cell_type": "markdown",
   "metadata": {},
   "source": [
    "---\n",
    "## 出力とトルクの換算\n",
    "\n",
    "$$\n",
    "\\begin{align}\n",
    "P &= 2\\pi T \\frac{N}{60}\\frac{1}{1000},\\ \n",
    "T = \\frac{1000P}{2 \\pi}\\frac{60}{N}\\\\\n",
    "P&:出力[kw],\\ T:トルク[N\\cdot m],\\ N:回転数[ min^{-1} ]\\\\\n",
    "\\end{align}\n",
    "$$\n",
    "または\n",
    "$$\n",
    "\\begin{align}\n",
    "P &= 2\\pi \\cdot Tg\\cdot  \\frac{N}{60}\\frac{1}{1000},\\ \n",
    "T = \\frac{1000P}{2 \\pi g}\\frac{60}{N}\\\\\n",
    "P&:出力[kw],\\ T:トルク[kgf\\cdot m],\\ N:回転数[ min^{-1} ]\\\\\n",
    "\\end{align}\n",
    "$$\n",
    "または\n",
    "$$\n",
    "\\begin{align}\n",
    "P &= 2\\pi \\frac{Tg}{1000}  \\frac{N}{60}\\frac{1}{1000},\\ \n",
    "T = \\frac{10^6 \\cdot P}{2 \\pi g}\\frac{60}{N}\\\\\n",
    "P&:出力[kw],\\ T:トルク[kgf\\cdot mm],\\ N:回転数[ min^{-1} ]\\\\\n",
    "\\end{align}\n",
    "$$"
   ]
  },
  {
   "cell_type": "code",
   "execution_count": 156,
   "metadata": {},
   "outputs": [],
   "source": [
    "import scipy.constants\n",
    "\n",
    "def trq_to_kw( trq, rot,unit='Nm',):\n",
    "    try:\n",
    "        if unit == 'Nm':\n",
    "            return 2 * np.pi * trq * rot / 60 / 1000\n",
    "        elif unit == 'kgfm':\n",
    "            return 2*np.pi*trq*scipy.constants.g * rot / 60 / 1000\n",
    "        elif unit == 'kgfmm':\n",
    "            return 2*np.pi*trq*scipy.constants.g /1000 * rot / 60 / 1000\n",
    "    except:\n",
    "        return np.nan\n",
    "\n",
    "def kw_to_trq(p, rot, unit='Nm'):\n",
    "    try:\n",
    "        if unit == 'Nm':\n",
    "            return 1000 * p / (2*np.pi)* 60/rot\n",
    "        elif unit == 'kgfm':\n",
    "            return 1000*p/(2*np.pi*scipy.constants.g)*60/rot\n",
    "        elif unit == 'kgfmm':\n",
    "            return 1000000*p/(2*np.pi*scipy.constants.g)*60/rot\n",
    "    except:\n",
    "        return np.nan"
   ]
  },
  {
   "cell_type": "markdown",
   "metadata": {},
   "source": [
    "---\n",
    "### サンプル"
   ]
  },
  {
   "cell_type": "code",
   "execution_count": 162,
   "metadata": {},
   "outputs": [
    {
     "data": {
      "text/plain": [
       "1.000000357564167"
      ]
     },
     "execution_count": 162,
     "metadata": {},
     "output_type": "execute_result"
    }
   ],
   "source": [
    "trq_to_kw(9549.3,1)"
   ]
  },
  {
   "cell_type": "code",
   "execution_count": 161,
   "metadata": {},
   "outputs": [
    {
     "data": {
      "text/plain": [
       "1.000000357564167"
      ]
     },
     "execution_count": 161,
     "metadata": {},
     "output_type": "execute_result"
    }
   ],
   "source": [
    "trq_to_kw(9549.3,1,unit='Nm')"
   ]
  },
  {
   "cell_type": "code",
   "execution_count": 164,
   "metadata": {
    "scrolled": true
   },
   "outputs": [
    {
     "data": {
      "text/plain": [
       "1.0000233578970221"
      ]
     },
     "execution_count": 164,
     "metadata": {},
     "output_type": "execute_result"
    }
   ],
   "source": [
    "trq_to_kw(973.78,1,unit='kgfm')"
   ]
  },
  {
   "cell_type": "code",
   "execution_count": 165,
   "metadata": {
    "scrolled": true
   },
   "outputs": [
    {
     "data": {
      "text/plain": [
       "1.0000233578970223"
      ]
     },
     "execution_count": 165,
     "metadata": {},
     "output_type": "execute_result"
    }
   ],
   "source": [
    "trq_to_kw(973780,1,unit='kgfmm')"
   ]
  },
  {
   "cell_type": "code",
   "execution_count": 157,
   "metadata": {},
   "outputs": [
    {
     "data": {
      "text/plain": [
       "9549.29658551372"
      ]
     },
     "execution_count": 157,
     "metadata": {},
     "output_type": "execute_result"
    }
   ],
   "source": [
    "kw_to_trq(1,1)"
   ]
  },
  {
   "cell_type": "code",
   "execution_count": 158,
   "metadata": {},
   "outputs": [
    {
     "data": {
      "text/plain": [
       "9549.29658551372"
      ]
     },
     "execution_count": 158,
     "metadata": {},
     "output_type": "execute_result"
    }
   ],
   "source": [
    "kw_to_trq(1,1, unit='Nm')"
   ]
  },
  {
   "cell_type": "code",
   "execution_count": 163,
   "metadata": {},
   "outputs": [
    {
     "data": {
      "text/plain": [
       "973.7572550783112"
      ]
     },
     "execution_count": 163,
     "metadata": {},
     "output_type": "execute_result"
    }
   ],
   "source": [
    "kw_to_trq(1,1, unit='kgfm')"
   ]
  },
  {
   "cell_type": "code",
   "execution_count": 166,
   "metadata": {},
   "outputs": [
    {
     "data": {
      "text/plain": [
       "973757.2550783113"
      ]
     },
     "execution_count": 166,
     "metadata": {},
     "output_type": "execute_result"
    }
   ],
   "source": [
    "kw_to_trq(1,1, unit='kgfmm')"
   ]
  },
  {
   "cell_type": "markdown",
   "metadata": {},
   "source": [
    "---\n",
    "## データフレームの複数の列データを元に計算して複数の戻り値を返す方法\n",
    "\n",
    "辞書型として受け取ってシリーズを返す関数を作成する。データフレームの列名は都度変更になるため，その時々に合わせて関数を定義する方が汎用性が高い。"
   ]
  },
  {
   "cell_type": "code",
   "execution_count": 31,
   "metadata": {},
   "outputs": [],
   "source": [
    "import pandas as pd"
   ]
  },
  {
   "cell_type": "code",
   "execution_count": 55,
   "metadata": {},
   "outputs": [],
   "source": [
    "df_test = pd.DataFrame( {'sectype':['rectangle','rectangle','rectangle'], 'b':[3,6,12], 'h':[10,20,40]})"
   ]
  },
  {
   "cell_type": "code",
   "execution_count": 56,
   "metadata": {},
   "outputs": [
    {
     "data": {
      "text/html": [
       "<div>\n",
       "<style scoped>\n",
       "    .dataframe tbody tr th:only-of-type {\n",
       "        vertical-align: middle;\n",
       "    }\n",
       "\n",
       "    .dataframe tbody tr th {\n",
       "        vertical-align: top;\n",
       "    }\n",
       "\n",
       "    .dataframe thead th {\n",
       "        text-align: right;\n",
       "    }\n",
       "</style>\n",
       "<table border=\"1\" class=\"dataframe\">\n",
       "  <thead>\n",
       "    <tr style=\"text-align: right;\">\n",
       "      <th></th>\n",
       "      <th>sectype</th>\n",
       "      <th>b</th>\n",
       "      <th>h</th>\n",
       "    </tr>\n",
       "  </thead>\n",
       "  <tbody>\n",
       "    <tr>\n",
       "      <th>0</th>\n",
       "      <td>rectangle</td>\n",
       "      <td>3</td>\n",
       "      <td>10</td>\n",
       "    </tr>\n",
       "    <tr>\n",
       "      <th>1</th>\n",
       "      <td>rectangle</td>\n",
       "      <td>6</td>\n",
       "      <td>20</td>\n",
       "    </tr>\n",
       "    <tr>\n",
       "      <th>2</th>\n",
       "      <td>rectangle</td>\n",
       "      <td>12</td>\n",
       "      <td>40</td>\n",
       "    </tr>\n",
       "  </tbody>\n",
       "</table>\n",
       "</div>"
      ],
      "text/plain": [
       "     sectype   b   h\n",
       "0  rectangle   3  10\n",
       "1  rectangle   6  20\n",
       "2  rectangle  12  40"
      ]
     },
     "execution_count": 56,
     "metadata": {},
     "output_type": "execute_result"
    }
   ],
   "source": [
    "df_test"
   ]
  },
  {
   "cell_type": "code",
   "execution_count": 57,
   "metadata": {},
   "outputs": [],
   "source": [
    "def sec_data_list(row):\n",
    "    return pd.Series(sec_data(sectype='rectangle', b=row['b'], h=row['h']))"
   ]
  },
  {
   "cell_type": "code",
   "execution_count": 59,
   "metadata": {},
   "outputs": [
    {
     "data": {
      "text/html": [
       "<div>\n",
       "<style scoped>\n",
       "    .dataframe tbody tr th:only-of-type {\n",
       "        vertical-align: middle;\n",
       "    }\n",
       "\n",
       "    .dataframe tbody tr th {\n",
       "        vertical-align: top;\n",
       "    }\n",
       "\n",
       "    .dataframe thead th {\n",
       "        text-align: right;\n",
       "    }\n",
       "</style>\n",
       "<table border=\"1\" class=\"dataframe\">\n",
       "  <thead>\n",
       "    <tr style=\"text-align: right;\">\n",
       "      <th></th>\n",
       "      <th>sectype</th>\n",
       "      <th>b</th>\n",
       "      <th>h</th>\n",
       "      <th>A</th>\n",
       "      <th>Iy</th>\n",
       "      <th>Z</th>\n",
       "    </tr>\n",
       "  </thead>\n",
       "  <tbody>\n",
       "    <tr>\n",
       "      <th>0</th>\n",
       "      <td>rectangle</td>\n",
       "      <td>3</td>\n",
       "      <td>10</td>\n",
       "      <td>30.0</td>\n",
       "      <td>250.0</td>\n",
       "      <td>50.0</td>\n",
       "    </tr>\n",
       "    <tr>\n",
       "      <th>1</th>\n",
       "      <td>rectangle</td>\n",
       "      <td>6</td>\n",
       "      <td>20</td>\n",
       "      <td>120.0</td>\n",
       "      <td>4000.0</td>\n",
       "      <td>400.0</td>\n",
       "    </tr>\n",
       "    <tr>\n",
       "      <th>2</th>\n",
       "      <td>rectangle</td>\n",
       "      <td>12</td>\n",
       "      <td>40</td>\n",
       "      <td>480.0</td>\n",
       "      <td>64000.0</td>\n",
       "      <td>3200.0</td>\n",
       "    </tr>\n",
       "  </tbody>\n",
       "</table>\n",
       "</div>"
      ],
      "text/plain": [
       "     sectype   b   h      A       Iy       Z\n",
       "0  rectangle   3  10   30.0    250.0    50.0\n",
       "1  rectangle   6  20  120.0   4000.0   400.0\n",
       "2  rectangle  12  40  480.0  64000.0  3200.0"
      ]
     },
     "execution_count": 59,
     "metadata": {},
     "output_type": "execute_result"
    }
   ],
   "source": [
    "df_test[['A','Iy','Z']]=df_test.apply(sec_data_list, axis=1)\n",
    "df_test"
   ]
  },
  {
   "cell_type": "code",
   "execution_count": null,
   "metadata": {},
   "outputs": [],
   "source": []
  }
 ],
 "metadata": {
  "kernelspec": {
   "display_name": "Python 3",
   "language": "python",
   "name": "python3"
  },
  "language_info": {
   "codemirror_mode": {
    "name": "ipython",
    "version": 3
   },
   "file_extension": ".py",
   "mimetype": "text/x-python",
   "name": "python",
   "nbconvert_exporter": "python",
   "pygments_lexer": "ipython3",
   "version": "3.6.5"
  },
  "toc": {
   "base_numbering": 1,
   "nav_menu": {},
   "number_sections": true,
   "sideBar": true,
   "skip_h1_title": false,
   "title_cell": "Table of Contents",
   "title_sidebar": "Contents",
   "toc_cell": false,
   "toc_position": {},
   "toc_section_display": true,
   "toc_window_display": false
  }
 },
 "nbformat": 4,
 "nbformat_minor": 2
}
