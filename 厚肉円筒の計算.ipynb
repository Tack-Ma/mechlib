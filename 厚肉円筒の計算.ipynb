{
 "cells": [
  {
   "cell_type": "markdown",
   "metadata": {},
   "source": [
    "## 内外面に圧力を受ける円板\n",
    "\n",
    "変位と半径方向，円周方向の応力は以下の式で求められる。  \n",
    "  \n",
    "$\n",
    "\\begin{align}\n",
    "  u & =  \\frac{1-\\nu}{E} \\cdot \\frac{a^2 p_1 - b^2 p_2}{b^2-a^2}r +\\frac{1+\\nu}{E} \\cdot \\frac{a^2 b^2 (p_1 - p_2)}{b^2-a^2} \\cdot \\frac{1}{r}\\\\\n",
    "  \\sigma_r & =  \\frac{a^2}{b^2-a^2} \\left\\{ \\left( 1-\\frac{b^2}{r^2} \\right) p_1 - \\left( \\frac{b^2}{a^2}-\\frac{b^2}{r^2} \\right) p_2\\right\\}\\\\\n",
    "    \\sigma_\\theta & =  \\frac{a^2}{b^2-a^2} \\left\\{ \\left( 1+\\frac{b^2}{r^2} \\right) p_1 - \\left( \\frac{b^2}{a^2}+\\frac{b^2}{r^2} \\right) p_2\\right\\}\n",
    "\\end{align}\n",
    "$"
   ]
  },
  {
   "cell_type": "markdown",
   "metadata": {},
   "source": [
    "$\n",
    "\\begin{align}\n",
    "  u & :  Displacement  \\\\\n",
    "  \\sigma_r & : Radius\\ Stress  \\\\\n",
    "  \\sigma_\\theta & :Circumferential\\ Stress\\\\\n",
    "  a &: Inner\\ Radius\\\\\n",
    "  b &: Outer\\ Radius\\\\\n",
    "  r &: Any\\ Radius\\\\\n",
    "  p_1 &: Inner\\ Pressure\\ (for\\ outer\\ direction)\\\\\n",
    "  p_2 &: Outer\\ Pressure\\ (for\\ inner\\ direction)\\\\\n",
    "  \\nu &: Poisson\\ Ratio\\\\\n",
    "  E &: Young's\\ modulus\n",
    "\\end{align}\n",
    "$"
   ]
  },
  {
   "cell_type": "markdown",
   "metadata": {},
   "source": [
    "このまま実装すると中実軸の場合半径=0，無限に広い円板の場合も直径無限大を入力したいが計算不可である。また，行列で計算したいので，式を下記のように書き換える。  \n",
    "  \n",
    "$\n",
    "\\begin{align}\n",
    "  u & =  \\frac{1}{E} \\cdot \\frac{1}{b^2-a^2}  \\cdot \\frac{1}{r} \\left\\{ (1-\\nu)( a^2p_1 - b^2p_2)r^2 +(1+\\nu) (a^2 b^2 (p_1 - p_2)\\right\\}\\\\\n",
    "  & =  \\frac{1}{E} \\cdot \\frac{1}{b^2-a^2}  \\cdot \\frac{1}{r}\n",
    "  \\left[ \\left\\{ (1-\\nu)r^2+(1+\\nu)b^2 \\right\\} a^2p_1 - \\left\\{(1-\\nu)r^2 +(1+\\nu) a^2 \\right\\}b^2p_2\\right]\\\\\n",
    "  & =  \\frac{1}{E} \\cdot \\frac{1}{\\displaystyle 1-\\frac{a^2}{b^2}}  \\cdot \\frac{1}{r}\n",
    "  \\left[ \\left\\{ (1-\\nu) \\frac {r^2}{b^2}+(1+\\nu) \\right\\} a^2p_1 - \\left\\{(1-\\nu)r^2 +(1+\\nu) a^2 \\right\\}p_2\\right]\\\\\n",
    "  \\sigma_r & =  \\frac{1}{\\displaystyle 1-\\frac{a^2}{b^2}} \n",
    "  \\left\\{ \\left( \\frac{1}{b^2}-\\frac{1}{r^2} \\right)a^2 p_1 - \\left( 1-\\frac{a^2}{r^2} \\right) p_2\\right\\}\\\\\n",
    "  \\sigma_\\theta & =  \\frac{1}{\\displaystyle 1-\\frac{a^2}{b^2}} \n",
    "  \\left\\{ \\left( \\frac{1}{b^2}+\\frac{1}{r^2} \\right)a^2 p_1 - \\left( 1+\\frac{a^2}{r^2} \\right) p_2\\right\\}\\\\\n",
    "\\end{align}\n",
    "$"
   ]
  },
  {
   "cell_type": "markdown",
   "metadata": {},
   "source": [
    "式が長いので置き換える。  \n",
    "  \n",
    "$\n",
    "\\begin{align}\n",
    "  k_1 & =  \\frac{1}{E} \\cdot \\frac{1}{\\displaystyle 1-\\frac{a^2}{b^2}}\\\\\n",
    "  \\alpha_{1} & = (1-\\nu) \\frac {a^2}{b^2}r+(1+\\nu)a^2 \\cdot \\frac{1}{r}\\\\\n",
    "  \\beta_{1} & = (1-\\nu)r +(1+\\nu) a^2 \\cdot \\frac{1}{r} \\\\\n",
    "  k_2 & = \\frac{1}{\\displaystyle 1-\\frac{a^2}{b^2}} \\\\\n",
    "  \\alpha_{2} & = \\left( \\frac{1}{b^2}-\\frac{1}{r^2} \\right)a^2\\\\\n",
    "  \\beta_{2} & = 1-\\frac{a^2}{r^2}\\\\\n",
    "  \\alpha_{3} & = \\left( \\frac{1}{b^2}+\\frac{1}{r^2} \\right)a^2\\\\\n",
    "  \\beta_{3} & = 1+\\frac{a^2}{r^2}\\\\\n",
    "\\end{align}\n",
    "$"
   ]
  },
  {
   "cell_type": "markdown",
   "metadata": {},
   "source": [
    "$\n",
    "\\begin{align}\n",
    "  k_1 & =  \\frac{1}{E} \\cdot \\frac{1}{\\displaystyle 1-\\frac{a^2}{b^2}}\\\\\n",
    "  \\alpha_{1} & = (1-\\nu) \\frac {a^2}{b^2}r+(1+\\nu)a^2 \\cdot \\frac{1}{r},\\ \n",
    "  &\\alpha_{1:r=a} & = (1-\\nu) \\frac {a^3}{b^2}+(1+\\nu)a,\\ \n",
    "  &\\alpha_{1:r=b} & = (1-\\nu) \\frac {a^2}{b}+(1+\\nu)\\frac{a}{b}\\\\\n",
    "  \\beta_{1} & = (1-\\nu)r +(1+\\nu) a^2 \\cdot \\frac{1}{r} ,\\ \n",
    "  &\\beta_{1:r=a} & = 2a,\\ \n",
    "  &\\beta_{1:r=b} & = (1-\\nu)b +(1+\\nu)\\frac{a^2}{b} \\\\\n",
    "  k_2 & = \\frac{1}{\\displaystyle 1-\\frac{a^2}{b^2}} \\\\\n",
    "  \\alpha_{2} & = \\left( \\frac{1}{b^2}-\\frac{1}{r^2} \\right)a^2\\\\\n",
    "  \\beta_{2} & = 1-\\frac{a^2}{r^2}\\\\\n",
    "  \\alpha_{3} & = \\left( \\frac{1}{b^2}+\\frac{1}{r^2} \\right)a^2\\\\\n",
    "  \\beta_{3} & = 1+\\frac{a^2}{r^2}\\\\\n",
    "\\end{align}\n",
    "$"
   ]
  },
  {
   "cell_type": "markdown",
   "metadata": {},
   "source": [
    "$\n",
    "\\begin{align}\n",
    "%内外圧と変位・応力の関係\n",
    "    \\left[ \\begin{array}{ccc} u\\\\ \\sigma_r \\\\  \\sigma_\\theta \\end{array} \\right]\n",
    "    &=\n",
    "    \\left[ \\begin{array}{ccc} k_1 \\alpha_1 & -k_1 \\beta_1\\\\\n",
    "                              k_2 \\alpha_2 & -k_2 \\beta_2\\\\\n",
    "                              k_2 \\alpha_3 & -k_2 \\beta_3\n",
    "    \\end{array} \\right]\n",
    "    \\left[ \\begin{array}{ccc} p_1\\\\ p_2 \\end{array} \\right]\\\\\n",
    "%計算するポイントの半径とα1,β1の関係\n",
    "    \\left[ \\begin{array}{ccc} \\alpha_1\\\\ \\beta_1 \\end{array} \\right]\n",
    "    &=\n",
    "    \\left[ \\begin{array}{ccc} \\displaystyle (1-\\nu) \\frac {a^2}{b^2} & (1+\\nu)a^2 \\\\\n",
    "                              1-\\nu & (1+\\nu) a^2\n",
    "    \\end{array} \\right]\n",
    "    \\left[ \\begin{array}{ccc} r\\\\ 1/r \\end{array} \\right]\\\\\n",
    "%計算するポイントの半径とα2,β2の関係\n",
    "    \\left[ \\begin{array}{ccc} \\alpha_2\\\\ \\beta_2 \\end{array} \\right]\n",
    "    &=\n",
    "    \\left[ \\begin{array}{ccc} \\displaystyle \\frac {a^2}{b^2} & -a^2 \\\\\n",
    "                              1 & -a^2\n",
    "    \\end{array} \\right]\n",
    "    \\left[\n",
    "    \\begin{array}{ccc}\n",
    "    1\\\\\n",
    "    1/r^2\n",
    "    \\end{array} \\right]\\\\\n",
    "%計算するポイントの半径とα2,β2の関係\n",
    "    \\left[ \\begin{array}{ccc} \\alpha_3\\\\ \\beta_3 \\end{array} \\right]\n",
    "    &=\n",
    "    \\left[ \\begin{array}{ccc} \\displaystyle \\frac {a^2}{b^2} & a^2 \\\\\n",
    "                              1 & a^2\n",
    "    \\end{array} \\right]\n",
    "    \\left[\n",
    "    \\begin{array}{ccc}\n",
    "    1\\\\\n",
    "    1/r^2\n",
    "    \\end{array} \\right]\n",
    "\\end{align}\n",
    "$"
   ]
  },
  {
   "cell_type": "code",
   "execution_count": 1,
   "metadata": {},
   "outputs": [],
   "source": [
    "import numpy as np"
   ]
  },
  {
   "cell_type": "code",
   "execution_count": 18,
   "metadata": {},
   "outputs": [],
   "source": [
    "def arr_uk(a,b,r,nu=0.3,ey=21000):\n",
    "    arr_K1 = np.array([[(1-nu)*a**2/b**2, (1+nu)*a**2 ],[1-nu, (1+nu)*a**2]])\n",
    "    arr_r = np.array([r, 1/r])\n",
    "    k_1 = 1/ey * 1/(1-a**2/b**2)\n",
    "    return k_1*arr_K1.dot(arr_r.T)*np.array([1,-1])"
   ]
  },
  {
   "cell_type": "code",
   "execution_count": 19,
   "metadata": {},
   "outputs": [
    {
     "data": {
      "text/plain": [
       "array([ 0.00936508, -0.01269841])"
      ]
     },
     "execution_count": 19,
     "metadata": {},
     "output_type": "execute_result"
    }
   ],
   "source": [
    "arr_uk(100,200,100,0.3)"
   ]
  },
  {
   "cell_type": "code",
   "execution_count": 20,
   "metadata": {},
   "outputs": [],
   "source": [
    "from scipy import optimize"
   ]
  },
  {
   "cell_type": "code",
   "execution_count": 22,
   "metadata": {},
   "outputs": [],
   "source": [
    "arr_in = arr_uk(100,200,200)\n",
    "arr_out = arr_uk(200,400,200)\n",
    "def f(x):\n",
    "    arr_x = np.array([0,x])\n",
    "    return arr_in.dot(arr_x)\n",
    "def g(x):\n",
    "    arr_x = np.array([x,0])\n",
    "    return arr_out.dot(arr_x)\n",
    "def h(x):\n",
    "    delta = 0.3\n",
    "    return delta + f(x) - g(x)"
   ]
  },
  {
   "cell_type": "code",
   "execution_count": 24,
   "metadata": {},
   "outputs": [
    {
     "data": {
      "text/plain": [
       "array([9.45])"
      ]
     },
     "execution_count": 24,
     "metadata": {},
     "output_type": "execute_result"
    }
   ],
   "source": [
    "optimize.fsolve(h,0)"
   ]
  },
  {
   "cell_type": "code",
   "execution_count": null,
   "metadata": {},
   "outputs": [],
   "source": []
  }
 ],
 "metadata": {
  "kernelspec": {
   "display_name": "Python 3",
   "language": "python",
   "name": "python3"
  },
  "language_info": {
   "codemirror_mode": {
    "name": "ipython",
    "version": 3
   },
   "file_extension": ".py",
   "mimetype": "text/x-python",
   "name": "python",
   "nbconvert_exporter": "python",
   "pygments_lexer": "ipython3",
   "version": "3.6.5"
  },
  "toc": {
   "base_numbering": 1,
   "nav_menu": {},
   "number_sections": true,
   "sideBar": true,
   "skip_h1_title": false,
   "title_cell": "Table of Contents",
   "title_sidebar": "Contents",
   "toc_cell": false,
   "toc_position": {},
   "toc_section_display": true,
   "toc_window_display": false
  }
 },
 "nbformat": 4,
 "nbformat_minor": 2
}
